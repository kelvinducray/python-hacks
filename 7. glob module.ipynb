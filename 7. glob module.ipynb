{
 "cells": [
  {
   "cell_type": "markdown",
   "metadata": {},
   "source": [
    "# Pattern matching path names with the built-in 'glob' module"
   ]
  },
  {
   "cell_type": "code",
   "execution_count": 1,
   "metadata": {},
   "outputs": [],
   "source": [
    "from glob import glob"
   ]
  },
  {
   "cell_type": "markdown",
   "metadata": {},
   "source": [
    "## Let's set-up some example files..."
   ]
  },
  {
   "cell_type": "code",
   "execution_count": 2,
   "metadata": {},
   "outputs": [
    {
     "name": "stdout",
     "output_type": "stream",
     "text": [
      "\u001b[01;34mglob_examples\u001b[00m\n",
      "├── \u001b[01;35m1.gif\u001b[00m\n",
      "├── 2.pdf\n",
      "├── 3.html\n",
      "├── \u001b[01;31m4.zip\u001b[00m\n",
      "├── 5.py\n",
      "├── \u001b[01;34mimages\u001b[00m\n",
      "│   ├── \u001b[01;34mimages_1\u001b[00m\n",
      "│   │   ├── \u001b[01;35ma.jpg\u001b[00m\n",
      "│   │   ├── \u001b[01;35mb.jpg\u001b[00m\n",
      "│   │   └── \u001b[01;35mc.jpg\u001b[00m\n",
      "│   ├── \u001b[01;34mimages_2\u001b[00m\n",
      "│   │   ├── \u001b[01;35md.jpg\u001b[00m\n",
      "│   │   ├── \u001b[01;35me.jpg\u001b[00m\n",
      "│   │   └── \u001b[01;35mf.jpg\u001b[00m\n",
      "│   └── \u001b[01;34mimages_3\u001b[00m\n",
      "│       ├── \u001b[01;35mg.jpg\u001b[00m\n",
      "│       ├── \u001b[01;35mh.jpg\u001b[00m\n",
      "│       └── \u001b[01;35mi.jpg\u001b[00m\n",
      "└── \u001b[01;34mtext_files\u001b[00m\n",
      "    ├── misc.txt\n",
      "    ├── other.txt\n",
      "    └── stuff.txt\n",
      "\n",
      "5 directories, 17 files\n"
     ]
    }
   ],
   "source": [
    "!tree glob_examples"
   ]
  },
  {
   "cell_type": "markdown",
   "metadata": {},
   "source": [
    "## Examples\n",
    "\n",
    "### Use '*' for a variable length wildcard"
   ]
  },
  {
   "cell_type": "code",
   "execution_count": 8,
   "metadata": {},
   "outputs": [
    {
     "data": {
      "text/plain": [
       "['./glob_examples/4.zip',\n",
       " './glob_examples/3.html',\n",
       " './glob_examples/1.gif',\n",
       " './glob_examples/5.py',\n",
       " './glob_examples/2.pdf']"
      ]
     },
     "execution_count": 8,
     "metadata": {},
     "output_type": "execute_result"
    }
   ],
   "source": [
    "glob('./glob_examples/*.*')"
   ]
  },
  {
   "cell_type": "markdown",
   "metadata": {},
   "source": [
    "### Use '**' to match a subdirectory"
   ]
  },
  {
   "cell_type": "code",
   "execution_count": 9,
   "metadata": {},
   "outputs": [
    {
     "data": {
      "text/plain": [
       "['./glob_examples/text_files/stuff.txt',\n",
       " './glob_examples/text_files/misc.txt',\n",
       " './glob_examples/text_files/other.txt']"
      ]
     },
     "execution_count": 9,
     "metadata": {},
     "output_type": "execute_result"
    }
   ],
   "source": [
    "glob('./glob_examples/**/*.*')"
   ]
  },
  {
   "cell_type": "markdown",
   "metadata": {},
   "source": [
    "### Specify 'recursive=True' to match any number of subdirectory levels"
   ]
  },
  {
   "cell_type": "code",
   "execution_count": 10,
   "metadata": {},
   "outputs": [
    {
     "data": {
      "text/plain": [
       "['./glob_examples/images/images_2/d.jpg',\n",
       " './glob_examples/images/images_2/e.jpg',\n",
       " './glob_examples/images/images_2/f.jpg',\n",
       " './glob_examples/images/images_3/h.jpg',\n",
       " './glob_examples/images/images_3/i.jpg',\n",
       " './glob_examples/images/images_3/g.jpg',\n",
       " './glob_examples/images/images_1/b.jpg',\n",
       " './glob_examples/images/images_1/c.jpg',\n",
       " './glob_examples/images/images_1/a.jpg']"
      ]
     },
     "execution_count": 10,
     "metadata": {},
     "output_type": "execute_result"
    }
   ],
   "source": [
    "glob('./glob_examples/**/*.jpg', recursive=True)"
   ]
  },
  {
   "cell_type": "markdown",
   "metadata": {},
   "source": [
    "### Use '?' for a fixed length wildcard"
   ]
  },
  {
   "cell_type": "code",
   "execution_count": 11,
   "metadata": {},
   "outputs": [
    {
     "data": {
      "text/plain": [
       "['./glob_examples/1.gif']"
      ]
     },
     "execution_count": 11,
     "metadata": {},
     "output_type": "execute_result"
    }
   ],
   "source": [
    "glob('./glob_examples/?.gif')"
   ]
  },
  {
   "cell_type": "markdown",
   "metadata": {},
   "source": [
    "### Match on numeric wildcard"
   ]
  },
  {
   "cell_type": "code",
   "execution_count": 12,
   "metadata": {},
   "outputs": [
    {
     "data": {
      "text/plain": [
       "['./glob_examples/4.zip',\n",
       " './glob_examples/3.html',\n",
       " './glob_examples/1.gif',\n",
       " './glob_examples/5.py',\n",
       " './glob_examples/2.pdf']"
      ]
     },
     "execution_count": 12,
     "metadata": {},
     "output_type": "execute_result"
    }
   ],
   "source": [
    "glob('./glob_examples/[0-9].*')"
   ]
  },
  {
   "cell_type": "markdown",
   "metadata": {},
   "source": [
    " "
   ]
  }
 ],
 "metadata": {
  "interpreter": {
   "hash": "f849a229428f7c4509ee09ed15bf39f2674dfd754e3734ae0f9f1d28f815a23a"
  },
  "kernelspec": {
   "display_name": "Python 3.10.2 ('.venv': poetry)",
   "language": "python",
   "name": "python3"
  },
  "language_info": {
   "codemirror_mode": {
    "name": "ipython",
    "version": 3
   },
   "file_extension": ".py",
   "mimetype": "text/x-python",
   "name": "python",
   "nbconvert_exporter": "python",
   "pygments_lexer": "ipython3",
   "version": "3.10.2"
  },
  "orig_nbformat": 4
 },
 "nbformat": 4,
 "nbformat_minor": 2
}
