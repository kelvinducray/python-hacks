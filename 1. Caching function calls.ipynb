{
 "cells": [
  {
   "cell_type": "markdown",
   "metadata": {},
   "source": [
    "# Caching function calls"
   ]
  },
  {
   "cell_type": "markdown",
   "metadata": {},
   "source": [
    "There are a few different alternatives and settings when it comes to using caching features from the 'functools' library. I tend to default to 'lru_cache' in most cases, where LRU stands for least recently used (i.e. remove the oldest unused values first)."
   ]
  },
  {
   "cell_type": "code",
   "execution_count": 1,
   "metadata": {},
   "outputs": [],
   "source": [
    "from functools import lru_cache"
   ]
  },
  {
   "cell_type": "markdown",
   "metadata": {},
   "source": [
    "For a much more detailed explanation of the different types of caching and a deep dive into 'lru_cache' in particular and how it works I'd highly recommend checking out: https://realpython.com/lru-cache-python/."
   ]
  },
  {
   "cell_type": "markdown",
   "metadata": {},
   "source": [
    "## Recursion"
   ]
  },
  {
   "cell_type": "markdown",
   "metadata": {},
   "source": [
    "Using caching can drastically reduce computation times for highly recursive code. A simple toy example commonly used for demonstration is calculating Fibonacci numbers. The time taken to run this function recursively from scratch each time blows up exponentially (it more than doubles each time)."
   ]
  },
  {
   "cell_type": "code",
   "execution_count": 2,
   "metadata": {},
   "outputs": [],
   "source": [
    "def fib(n: int) -> int:\n",
    "    if n < 2:\n",
    "        return n\n",
    "    return fib(n - 1) + fib(n - 2)\n",
    "\n",
    "\n",
    "@lru_cache(maxsize=2)\n",
    "def fib_cached(n: int) -> int:\n",
    "    if n < 2:\n",
    "        return n\n",
    "    return fib_cached(n - 1) + fib_cached(n - 2)"
   ]
  },
  {
   "cell_type": "markdown",
   "metadata": {},
   "source": [
    "Let's test out the difference..."
   ]
  },
  {
   "cell_type": "code",
   "execution_count": 3,
   "metadata": {},
   "outputs": [
    {
     "name": "stdout",
     "output_type": "stream",
     "text": [
      "Time taken to run fib(36): 7.087283 seconds\n",
      "Time taken to run fib_cached(36): 0.089198 seconds\n"
     ]
    }
   ],
   "source": [
    "from timeit import timeit\n",
    "\n",
    "n = 36\n",
    "\n",
    "for fn in [\"fib\", \"fib_cached\"]:\n",
    "    time_taken_secs = timeit(\n",
    "        f\"{fn}({n})\",\n",
    "        setup=\"from __main__ import fib, fib_cached\",\n",
    "        number=1,\n",
    "    )\n",
    "    print(f\"Time taken to run {fn}({n}): {time_taken_secs:.6f} seconds\")"
   ]
  },
  {
   "cell_type": "code",
   "execution_count": 4,
   "metadata": {},
   "outputs": [
    {
     "data": {
      "text/plain": [
       "14930352"
      ]
     },
     "execution_count": 4,
     "metadata": {},
     "output_type": "execute_result"
    }
   ],
   "source": [
    "fib_cached(n)"
   ]
  },
  {
   "cell_type": "markdown",
   "metadata": {},
   "source": [
    "# Singleton factory"
   ]
  },
  {
   "cell_type": "markdown",
   "metadata": {},
   "source": [
    "While come people consider using Singletons an anti-pattern, I've found they can be useful at times. For example when using a class for all of your configuration."
   ]
  },
  {
   "cell_type": "code",
   "execution_count": 5,
   "metadata": {},
   "outputs": [],
   "source": [
    "from os import getenv\n",
    "from pydantic import BaseSettings\n",
    "\n",
    "\n",
    "class DevSettings(BaseSettings):\n",
    "    VAR: str = \"x\"\n",
    "\n",
    "\n",
    "class TestSettings(\n",
    "    DevSettings,  # This way we only overwrite settings we want to change\n",
    "):\n",
    "    VAR: str = \"y\"\n",
    "\n",
    "\n",
    "class ProdSettings(DevSettings):\n",
    "    VAR: str = \"z\"\n",
    "\n",
    "\n",
    "# Use a cached function to create a Singleton factory:\n",
    "@lru_cache(maxsize=1)\n",
    "def get_settings() -> DevSettings | TestSettings | ProdSettings:\n",
    "    \"\"\"\n",
    "    In order to use this way of using our different settings classes\n",
    "    we need to specify the environment variable we want to use.\n",
    "    In this case we are using: 'DEPLOYMENT_ENVIRONMENT'.\n",
    "    \"\"\"\n",
    "    current_env = str(getenv(\"DEPLOYED_ENVIRONMENT\"))\n",
    "\n",
    "    if current_env == \"TEST\":\n",
    "        return TestSettings()\n",
    "    elif current_env == \"PROD\":\n",
    "        return ProdSettings()\n",
    "    else:\n",
    "        return DevSettings()"
   ]
  },
  {
   "cell_type": "markdown",
   "metadata": {},
   "source": [
    "Now let's test out our settings:"
   ]
  },
  {
   "cell_type": "code",
   "execution_count": 6,
   "metadata": {},
   "outputs": [
    {
     "name": "stdout",
     "output_type": "stream",
     "text": [
      "y\n"
     ]
    }
   ],
   "source": [
    "import os\n",
    "\n",
    "os.environ[\"DEPLOYED_ENVIRONMENT\"] = \"TEST\"\n",
    "\n",
    "settings = get_settings()\n",
    "\n",
    "print(settings.VAR)"
   ]
  },
  {
   "cell_type": "markdown",
   "metadata": {},
   "source": [
    "If we keep using our 'get_settings' function in our other scripts it will keep returning the result without re-calculating it each time. We can also test this by checking the identity of the object:"
   ]
  },
  {
   "cell_type": "code",
   "execution_count": 7,
   "metadata": {},
   "outputs": [
    {
     "data": {
      "text/plain": [
       "False"
      ]
     },
     "execution_count": 7,
     "metadata": {},
     "output_type": "execute_result"
    }
   ],
   "source": [
    "# Separate instances\n",
    "a = DevSettings()\n",
    "b = DevSettings()\n",
    "\n",
    "id(a) == id(b)"
   ]
  },
  {
   "cell_type": "code",
   "execution_count": 8,
   "metadata": {},
   "outputs": [
    {
     "data": {
      "text/plain": [
       "True"
      ]
     },
     "execution_count": 8,
     "metadata": {},
     "output_type": "execute_result"
    }
   ],
   "source": [
    "# Singleton\n",
    "c = get_settings()\n",
    "d = get_settings()\n",
    "\n",
    "id(c) == id(d)"
   ]
  },
  {
   "cell_type": "markdown",
   "metadata": {},
   "source": [
    " "
   ]
  }
 ],
 "metadata": {
  "interpreter": {
   "hash": "f849a229428f7c4509ee09ed15bf39f2674dfd754e3734ae0f9f1d28f815a23a"
  },
  "kernelspec": {
   "display_name": "Python 3 (ipykernel)",
   "language": "python",
   "name": "python3"
  },
  "language_info": {
   "codemirror_mode": {
    "name": "ipython",
    "version": 3
   },
   "file_extension": ".py",
   "mimetype": "text/x-python",
   "name": "python",
   "nbconvert_exporter": "python",
   "pygments_lexer": "ipython3",
   "version": "3.10.2"
  }
 },
 "nbformat": 4,
 "nbformat_minor": 2
}
