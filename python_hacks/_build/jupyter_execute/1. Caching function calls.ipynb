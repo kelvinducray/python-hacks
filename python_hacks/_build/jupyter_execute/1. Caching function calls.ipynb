{
 "cells": [
  {
   "cell_type": "markdown",
   "metadata": {},
   "source": [
    "# Caching function calls"
   ]
  },
  {
   "cell_type": "markdown",
   "metadata": {},
   "source": [
    "There are a few different alternatives and settings when it comes to using caching features from the 'functools' library. I tend to default to 'lru_cache' in most cases, where LRU stands for least recently used (i.e. remove the oldest unused values first)."
   ]
  },
  {
   "cell_type": "code",
   "execution_count": 1,
   "metadata": {},
   "outputs": [],
   "source": [
    "from functools import lru_cache"
   ]
  },
  {
   "cell_type": "markdown",
   "metadata": {},
   "source": [
    "For a much more detailed explanation of the different types of caching and a deep dive into 'lru_cache' in particular and how it works I'd highly recommend checking out: https://realpython.com/lru-cache-python/"
   ]
  },
  {
   "cell_type": "markdown",
   "metadata": {},
   "source": [
    "## Recursion"
   ]
  },
  {
   "cell_type": "markdown",
   "metadata": {},
   "source": [
    "Using caching can drastically reduce compution times for highly recursive code. A simple toy example commonly used for demonstration is calculating Fibonacci numbers. The time taken to run this function recursively from scratch each time blows up exponentially (if you want to experiment and see for yourself run this in Colab and experiment)."
   ]
  },
  {
   "cell_type": "code",
   "execution_count": 2,
   "metadata": {},
   "outputs": [],
   "source": [
    "def fib(n: int) -> int:\n",
    "    if n < 2:\n",
    "        return n\n",
    "    return fib(n - 1) + fib(n - 2)\n",
    "\n",
    "@lru_cache(maxsize=2)\n",
    "def fib_cached(n: int) -> int:\n",
    "    if n < 2:\n",
    "        return n\n",
    "    return fib_cached(n - 1) + fib_cached(n - 2)"
   ]
  },
  {
   "cell_type": "markdown",
   "metadata": {},
   "source": [
    "Lets test out the difference..."
   ]
  },
  {
   "cell_type": "code",
   "execution_count": 3,
   "metadata": {},
   "outputs": [
    {
     "name": "stdout",
     "output_type": "stream",
     "text": [
      "Time taken to run fib: 5.959856 seconds\n",
      "Time taken to run fib_cached: 0.085817 seconds\n"
     ]
    }
   ],
   "source": [
    "from timeit import timeit\n",
    "\n",
    "n = 36\n",
    "\n",
    "for fn in [\"fib\", \"fib_cached\"]:\n",
    "    time_taken_secs = timeit(\n",
    "        f\"{fn}({n})\",\n",
    "        setup=\"from __main__ import fib, fib_cached\",\n",
    "        number=1,\n",
    "    )\n",
    "    print(f\"Time taken to run {fn}: {time_taken_secs:.6f} seconds\")"
   ]
  },
  {
   "cell_type": "code",
   "execution_count": 4,
   "metadata": {},
   "outputs": [
    {
     "data": {
      "text/plain": [
       "14930352"
      ]
     },
     "execution_count": 4,
     "metadata": {},
     "output_type": "execute_result"
    }
   ],
   "source": [
    "fib_cached(36)"
   ]
  },
  {
   "cell_type": "markdown",
   "metadata": {},
   "source": [
    "# Singleton Factory"
   ]
  },
  {
   "cell_type": "markdown",
   "metadata": {},
   "source": [
    "While come people consider using Singletons an anti-pattern, I've found they can be useful at times. For example when using a class for all of your configuration."
   ]
  },
  {
   "cell_type": "code",
   "execution_count": 5,
   "metadata": {},
   "outputs": [],
   "source": [
    "from os import getenv\n",
    "from pydantic import BaseSettings\n",
    "\n",
    "\n",
    "class DevSettings(BaseSettings):\n",
    "    VAR: str = 'x'\n",
    "\n",
    "class TestSettings(\n",
    "    DevSettings, # This way we only overwrite settings we want to change\n",
    "):\n",
    "    VAR: str = 'y'\n",
    "\n",
    "class ProdSettings(DevSettings):\n",
    "    VAR: str = 'z'\n",
    "\n",
    "@lru_cache(maxsize=1)\n",
    "def get_settings() -> DevSettings | TestSettings | ProdSettings:\n",
    "    match getenv(\"DEPLOYED_ENVIRONMENT\"):\n",
    "        case \"TEST\":\n",
    "            return TestSettings()\n",
    "        case \"PROD\":\n",
    "            return ProdSettings()\n",
    "        case _:\n",
    "            return DevSettings()"
   ]
  },
  {
   "cell_type": "code",
   "execution_count": 6,
   "metadata": {},
   "outputs": [
    {
     "name": "stdout",
     "output_type": "stream",
     "text": [
      "x\n"
     ]
    }
   ],
   "source": [
    "settings = get_settings()\n",
    "\n",
    "print(settings.VAR)"
   ]
  },
  {
   "cell_type": "markdown",
   "metadata": {},
   "source": [
    "If we keep using our 'get_settings' function in our other scripts it will keep returning the result without re-calculating it each time. We can also test this by checking the identity of the object:"
   ]
  },
  {
   "cell_type": "code",
   "execution_count": 7,
   "metadata": {},
   "outputs": [
    {
     "data": {
      "text/plain": [
       "False"
      ]
     },
     "execution_count": 7,
     "metadata": {},
     "output_type": "execute_result"
    }
   ],
   "source": [
    "a = DevSettings()\n",
    "b = DevSettings()\n",
    "\n",
    "id(a) == id(b)"
   ]
  },
  {
   "cell_type": "code",
   "execution_count": 8,
   "metadata": {},
   "outputs": [
    {
     "data": {
      "text/plain": [
       "True"
      ]
     },
     "execution_count": 8,
     "metadata": {},
     "output_type": "execute_result"
    }
   ],
   "source": [
    "c = get_settings()\n",
    "d = get_settings()\n",
    "\n",
    "id(c) == id(d)"
   ]
  },
  {
   "cell_type": "markdown",
   "metadata": {},
   "source": [
    " "
   ]
  }
 ],
 "metadata": {
  "interpreter": {
   "hash": "f849a229428f7c4509ee09ed15bf39f2674dfd754e3734ae0f9f1d28f815a23a"
  },
  "kernelspec": {
   "display_name": "Python 3 (ipykernel)",
   "language": "python",
   "name": "python3"
  },
  "language_info": {
   "codemirror_mode": {
    "name": "ipython",
    "version": 3
   },
   "file_extension": ".py",
   "mimetype": "text/x-python",
   "name": "python",
   "nbconvert_exporter": "python",
   "pygments_lexer": "ipython3",
   "version": "3.10.2"
  }
 },
 "nbformat": 4,
 "nbformat_minor": 2
}