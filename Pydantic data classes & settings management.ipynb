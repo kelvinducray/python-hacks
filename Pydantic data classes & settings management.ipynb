{
 "cells": [
  {
   "cell_type": "code",
   "execution_count": 1,
   "metadata": {},
   "outputs": [],
   "source": [
    "from pydantic import BaseModel, ValidationError, validator"
   ]
  },
  {
   "cell_type": "markdown",
   "metadata": {},
   "source": [
    "# Adding extra functionality to dataclasses"
   ]
  },
  {
   "cell_type": "markdown",
   "metadata": {},
   "source": [
    "## Enforced type-checking\n",
    "\n",
    "One of the main added functionalities of using a pydantic BaseModel instead of a standard dataclass is enforced type checking at run time."
   ]
  },
  {
   "cell_type": "code",
   "execution_count": 2,
   "metadata": {},
   "outputs": [
    {
     "name": "stdout",
     "output_type": "stream",
     "text": [
      "Parsing failed:  1 validation error for TestMsgClassA\n",
      "b\n",
      "  value is not a valid integer (type=type_error.integer)\n"
     ]
    }
   ],
   "source": [
    "from datetime import datetime\n",
    "\n",
    "test_msg_a = {'a': 1, 'b': datetime.now(), 'c': 3}\n",
    "\n",
    "class TestMsgClassA(BaseModel):\n",
    "    a: int\n",
    "    b: int\n",
    "    c: int\n",
    "\n",
    "try:\n",
    "    test_msg_parsed_a = TestMsgClassA(**test_msg_a)\n",
    "except ValidationError as e:\n",
    "    # Just doing this to ignore the traceback...\n",
    "    print(\"Parsing failed: \", e)"
   ]
  },
  {
   "cell_type": "markdown",
   "metadata": {},
   "source": [
    "### An example with vanilla python where a date is allowed into an integer field"
   ]
  },
  {
   "cell_type": "code",
   "execution_count": 3,
   "metadata": {},
   "outputs": [
    {
     "name": "stdout",
     "output_type": "stream",
     "text": [
      "TestMsgClassDC(a=1, b=datetime.datetime(2022, 2, 23, 6, 49, 1, 424308), c=3)\n"
     ]
    }
   ],
   "source": [
    "from dataclasses import dataclass\n",
    "\n",
    "@dataclass\n",
    "class TestMsgClassDC:\n",
    "    a: int\n",
    "    b: int\n",
    "    c: int\n",
    "\n",
    "print(TestMsgClassDC(**test_msg_a))"
   ]
  },
  {
   "cell_type": "markdown",
   "metadata": {},
   "source": [
    "## Easily coerce the correct type\n",
    "\n",
    "Sometimes data coming in can be a bit messy, you can have things like integers that come through as strings, which can break your code, so you end up coercing types all over the place with things like int(...) or str(...). Pydantic will resolve this automatically, and give you the correct type you are looking for."
   ]
  },
  {
   "cell_type": "code",
   "execution_count": 4,
   "metadata": {},
   "outputs": [
    {
     "name": "stdout",
     "output_type": "stream",
     "text": [
      "a=1 b='2' c=3.0\n"
     ]
    }
   ],
   "source": [
    "test_msg_b = {'a': 1, 'b': 2, 'c': 3}\n",
    "\n",
    "class TestMsgClassB(BaseModel):\n",
    "    a: int\n",
    "    b: str\n",
    "    c: float\n",
    "\n",
    "test_msg_parsed_b = TestMsgClassB(**test_msg_b)\n",
    "\n",
    "print(test_msg_parsed_b)"
   ]
  },
  {
   "cell_type": "markdown",
   "metadata": {},
   "source": [
    "Notice how the types are b and c are converted to string and float respectively."
   ]
  },
  {
   "cell_type": "markdown",
   "metadata": {},
   "source": [
    "## Aliasing fields\n",
    "\n",
    "If you're parsing data from different sources you could face things like DifferentNamingConventions, or weird symbols. Pydantic will allow you to alias fields, for example to snake case fit in better with the rest of your Python application."
   ]
  },
  {
   "cell_type": "code",
   "execution_count": 5,
   "metadata": {},
   "outputs": [
    {
     "name": "stdout",
     "output_type": "stream",
     "text": [
      "timestamp=datetime.datetime(2022, 2, 23, 6, 49, 1, 739099) some_string='abc' another_value='def'\n"
     ]
    }
   ],
   "source": [
    "test_msg_c = {\n",
    "    \"@TIMESTAMP\": datetime.now(),\n",
    "    \"some-string\": \"abc\",\n",
    "    \"AnotherValue\": \"def\",\n",
    "}\n",
    "\n",
    "class TestMsgClassC(BaseModel):\n",
    "    timestamp: datetime\n",
    "    some_string: str\n",
    "    another_value: str\n",
    "\n",
    "    class Config:\n",
    "        fields = {\n",
    "            \"timestamp\": \"@TIMESTAMP\",\n",
    "            \"some_string\": \"some-string\",\n",
    "            \"another_value\": \"AnotherValue\",\n",
    "        }\n",
    "\n",
    "test_msg_parsed_c = TestMsgClassC(**test_msg_c)\n",
    "\n",
    "print(test_msg_parsed_c)"
   ]
  },
  {
   "cell_type": "markdown",
   "metadata": {},
   "source": [
    "## Data validation\n",
    "\n",
    "Pydantic makes it super easy to validate data coming in, and and to transform fields if necessary."
   ]
  },
  {
   "cell_type": "code",
   "execution_count": 6,
   "metadata": {},
   "outputs": [
    {
     "name": "stdout",
     "output_type": "stream",
     "text": [
      "timestamp=datetime.datetime(2022, 2, 21, 22, 45, 18) value='xyz'\n"
     ]
    }
   ],
   "source": [
    "test_message_d = {\n",
    "    \"timestamp\": 1645443918,\n",
    "    \"value\": \"xyz\",\n",
    "}\n",
    "\n",
    "class TestMsgClassD(BaseModel):\n",
    "    timestamp: datetime\n",
    "    value: str\n",
    "\n",
    "    @validator(\"timestamp\", pre=True)\n",
    "    def convert_epoch_ts_to_dt(cls, timestamp: int) -> datetime:\n",
    "        return datetime.fromtimestamp(timestamp) \n",
    "\n",
    "test_msg_parsed_d = TestMsgClassD(**test_message_d)\n",
    "\n",
    "print(test_msg_parsed_d)"
   ]
  },
  {
   "cell_type": "markdown",
   "metadata": {},
   "source": [
    "This is only a trivial example, there are lots of other features for data validation and transformation!"
   ]
  },
  {
   "cell_type": "markdown",
   "metadata": {},
   "source": [
    " "
   ]
  }
 ],
 "metadata": {
  "interpreter": {
   "hash": "f849a229428f7c4509ee09ed15bf39f2674dfd754e3734ae0f9f1d28f815a23a"
  },
  "kernelspec": {
   "display_name": "Python 3.10.2 ('.venv': poetry)",
   "language": "python",
   "name": "python3"
  },
  "language_info": {
   "codemirror_mode": {
    "name": "ipython",
    "version": 3
   },
   "file_extension": ".py",
   "mimetype": "text/x-python",
   "name": "python",
   "nbconvert_exporter": "python",
   "pygments_lexer": "ipython3",
   "version": "3.10.2"
  },
  "orig_nbformat": 4
 },
 "nbformat": 4,
 "nbformat_minor": 2
}
