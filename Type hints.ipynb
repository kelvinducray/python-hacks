{
 "cells": [
  {
   "cell_type": "markdown",
   "metadata": {},
   "source": [
    "# Type checking\n",
    "\n",
    "Because Python is a dynamically typed language, it is possible to write code that violates the optional type system. So why should you use it if it doesn't do anything?"
   ]
  },
  {
   "cell_type": "markdown",
   "metadata": {},
   "source": [
    "## Linting\n",
    "\n",
    "If you use a linter while you're coding, it will tell you if you have any typing mistakes before you even run or commit your code. Again, this won't be enforced but it will make it hard for you to make typing mistakes if they are clearly underlined in red."
   ]
  },
  {
   "cell_type": "markdown",
   "metadata": {},
   "source": [
    "## For future reference\n",
    "\n",
    "When you come back to re-factor your code after weeks or months, you'll be glad you did it! Knowing what your old functions return is incredibly helpful."
   ]
  },
  {
   "cell_type": "markdown",
   "metadata": {},
   "source": [
    "## Main changes to typing"
   ]
  },
  {
   "cell_type": "code",
   "execution_count": 2,
   "metadata": {},
   "outputs": [
    {
     "name": "stdout",
     "output_type": "stream",
     "text": [
      "True\n"
     ]
    }
   ],
   "source": [
    "# 1. Released in Python 3.8 through the 'typing' module, for example:\n",
    "from typing import List\n",
    "\n",
    "def print_elements(inputs: List[str]) -> None:\n",
    "    for i in inputs:\n",
    "        print(i)\n",
    "    # NOTE: Functions with no return value return None implicitly.\n",
    "\n",
    "# 2. Python 3.9 Removed the need to import built-in types...\n",
    "# Python 3.8 syntax:\n",
    "some_list: list[str] = ['a', 'b', 'c']\n",
    "\n",
    "# Python 3.9+ syntax:\n",
    "some_list: List[str] = ['a', 'b', 'c']\n",
    "\n",
    "# 3. Python 3.10 now allows a pipe | seperator for Unions between types:\n",
    "# Python 3.8 & 3.9 syntax:\n",
    "from typing import Union\n",
    "\n",
    "some_other_list: list[Union[str, int]] = ['a', 'b', 'c', 1, 2, 3]\n",
    "\n",
    "# Python 3.10+ syntax:\n",
    "some_other_list: list[str | int] = ['a', 'b', 'c', 1, 2, 3]\n",
    "\n",
    "# NOTE: This also applies for the built-in 'isinstance' function! Example:\n",
    "print(isinstance(\"xyz\", int | str))"
   ]
  },
  {
   "cell_type": "markdown",
   "metadata": {},
   "source": [
    " "
   ]
  }
 ],
 "metadata": {
  "interpreter": {
   "hash": "f849a229428f7c4509ee09ed15bf39f2674dfd754e3734ae0f9f1d28f815a23a"
  },
  "kernelspec": {
   "display_name": "Python 3.10.2 ('.venv': poetry)",
   "language": "python",
   "name": "python3"
  },
  "language_info": {
   "codemirror_mode": {
    "name": "ipython",
    "version": 3
   },
   "file_extension": ".py",
   "mimetype": "text/x-python",
   "name": "python",
   "nbconvert_exporter": "python",
   "pygments_lexer": "ipython3",
   "version": "3.10.2"
  },
  "orig_nbformat": 4
 },
 "nbformat": 4,
 "nbformat_minor": 2
}
