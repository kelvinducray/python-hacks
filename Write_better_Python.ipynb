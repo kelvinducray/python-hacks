{
 "cells": [
  {
   "cell_type": "markdown",
   "metadata": {},
   "source": [
    "# Upgrade your Python game"
   ]
  },
  {
   "cell_type": "markdown",
   "metadata": {},
   "source": [
    "## Stop using pip!\n",
    "\n",
    "You should be using pip to add packages to your project. Each and every project should have its dependencies installed in an isolated virutal environment, with all the versions of the dependencies tracked. A lot of people use Anaconda for this purpose which is fine, however I prefer to use a combination of pyenv & Poetry.\n",
    "\n",
    "pyenv lets you install multiple versions of Python at the same time and easily flick between them (as well as specify different versions for specific folders). Poetry manages the creation of virtual environments for your project, and keep track of all of your dependency versions. Another neat feature of poetry is you can use a ```--dev``` flag for dependencies that you want to install while devoloping, but might not need when it comes to deployment.\n",
    "\n",
    "The only time you want to pip install anything is if your installing a tool like a cli which offers a pip install option. During all project work you should be using conda install, poetry add, or some equivalent for whatever strategy you are using for your dependency management."
   ]
  },
  {
   "cell_type": "markdown",
   "metadata": {},
   "source": [
    "## Read through PEP8\n",
    "\n",
    "PEP8 outlines the official style guide for Python, and provides lots of example dos and don'ts of python programming.\n",
    "\n",
    "Link: [PEP 8 -- Style Guide for Python Code](https://www.python.org/dev/peps/pep-0008/)"
   ]
  },
  {
   "cell_type": "markdown",
   "metadata": {},
   "source": [
    "## Create modules instead of having a messy pile of scripts\n",
    "\n",
    "Most simplistic example, say we have a script in the root directory of our project called ```script.py```, we run it by running ```python script.py``` and script has a function called ```main``` that we want to run.\n",
    "```\n",
    ".\n",
    "└── script.py\n",
    "```\n",
    "\n",
    "If we want run our code as a package we need to setup the following structure:\n",
    "```\n",
    ".\n",
    "└── package_name\n",
    "    ├── __init__.py\n",
    "    ├── __main__.py\n",
    "    └── script.py\n",
    "```\n",
    "\n",
    "Where \\_\\_init\\_\\_.py tells python that it's a package and \\_\\_main\\_\\_.py tells python to execute that script first.\n",
    "\n",
    "Our main script will contain the following:\n",
    "```\n",
    "from .script import main\n",
    "\n",
    "if __name__ == '__main__':\n",
    "    main()\n",
    "```\n",
    "\n",
    "And we now use the ```-m``` flag to tell python to run the main script. For example: ```python -m -package_name``` - and always from the project root (this consistency is very important for relative file paths!).\n",
    "\n",
    "The importance of this might not be apparently obvious based on that example, however importing scripts can become a mess when things are not organised properly. This setup also allows us to easily import our scripts if we have tests, or other scripts that we want to run as well.\n",
    "\n",
    "Example:\n",
    "```\n",
    ".\n",
    "├── package_name\n",
    "│   ├── __init__.py\n",
    "│   ├── __main__.py\n",
    "│   └── script.py\n",
    "└── tests\n",
    "    ├── __init__.py\n",
    "    └── test_script.py\n",
    "```\n",
    "\n",
    "Now in ```test_script.py``` we can easily import our script. Example:\n",
    "```from package_name import script```."
   ]
  },
  {
   "cell_type": "markdown",
   "metadata": {},
   "source": []
  },
  {
   "cell_type": "markdown",
   "metadata": {},
   "source": [
    "## Think like a software engineer, even if you are not one\n",
    "\n",
    "Make sure you are familiar with the following:\n",
    "- Object oriented programming\n",
    "- Understand inheritance & composition\n",
    "- Ensure your code is flexible and extensible\n",
    "- The SOLID software design principles"
   ]
  },
  {
   "cell_type": "markdown",
   "metadata": {},
   "source": [
    "## Emphasize code readability over fanciness\n",
    "It should be very clear what your code is doing, and how it is doing it. This usually means writing short and modularised functions with comments throughout. The following points will extend on this..."
   ]
  },
  {
   "cell_type": "markdown",
   "metadata": {},
   "source": [
    "## Use docstrings to describe your code\n",
    "\n",
    "You can add docstrings at the top of your script, at the at the top of a class and at the top of a function (the latter being the most common).\n",
    "\n",
    "The syntax for docstrings is triple double quotes: ```\"\"\"Your description here.\"\"\"```"
   ]
  },
  {
   "cell_type": "markdown",
   "metadata": {},
   "source": [
    "## Use type hints\n",
    "\n",
    "dfgdg\n",
    "\n",
    "You will also need to familarise yourself with the typing library in order to fully describe the type of your variables. It offers types such as: Union (for when multiple types or permitted), Optional (when a value could be missing i.e. None), Callable (when the object being passed through is a function), etc."
   ]
  },
  {
   "cell_type": "markdown",
   "metadata": {},
   "source": [
    "## Example of readability, type hinting comments, docstrings & logging"
   ]
  },
  {
   "cell_type": "code",
   "execution_count": 3,
   "metadata": {},
   "outputs": [],
   "source": [
    "# Before:\n",
    "def some_fancy_function(x, name, surname):\n",
    "    if surname: # NOTE: This is confusing if we don't know the type right? Is surname a bool?\n",
    "        full_name = f\"{name} {surname}\"\n",
    "    else:\n",
    "        full_name = name\n",
    "    \n",
    "    if x < 5:\n",
    "        print(f\"Hi {full_name}! x is less than 5.\")\n",
    "    else:\n",
    "        print(f\"Whoa! be careful {full_name}! x is greater than 5.\")\n",
    "\n",
    "\n",
    "# After:\n",
    "import logging\n",
    "from typing import Optional\n",
    "\n",
    "logger = logging.getLogger(__name__)\n",
    "\n",
    "def some_fancy_function(x: int, name: str, surname: Optional[str]) -> None:\n",
    "    \"\"\"\n",
    "    We should describe what this function does here in the docstring.\n",
    "    \"\"\"\n",
    "\n",
    "    # First check if they provided a surname\n",
    "    if surname:\n",
    "        full_name = f\"{name} {surname}\"\n",
    "    else:\n",
    "        full_name = name\n",
    "    \n",
    "    # Then check if x is less than 5, else provide warning\n",
    "    if x < 5:\n",
    "        logger.info(f\"Hi {full_name}! x is less than 5.\")\n",
    "    else:\n",
    "        logger.warning(f\"Whoa! Be careful {full_name}! x is greater than 5.\")"
   ]
  },
  {
   "cell_type": "markdown",
   "metadata": {},
   "source": [
    "## Take full advantage of your IDE!\n",
    "\n",
    "### Auto-formatting with Black\n",
    "\n",
    "For VSCode Settings (JSON):\n",
    "```\n",
    "    // Automatically format files when saving\n",
    "    \"editor.formatOnSave\": true,\n",
    " \n",
    "    // Automatically sort imports when saving\n",
    "    \"editor.codeActionsOnSave\": {\n",
    "        \"source.organizeImports\": true\n",
    "    },\n",
    "    // Configure Black as our auto-formatter for Python code\n",
    "    \"python.formatting.provider\": \"black\",\n",
    "    \"python.formatting.blackArgs\": [\"-l\", \"99\"],\n",
    "    // ^ This also increases the line length a little from Black's default\n",
    "```\n",
    "\n",
    "### Linting with flake8\n",
    "```\n",
    "    \"python.linting.flake8Enabled\": true,\n",
    "```\n",
    "\n",
    "### Highlighting incorrect type hints with mypy\n",
    "```\n",
    "    \"python.linting.mypyEnabled\": true,\n",
    "```"
   ]
  },
  {
   "cell_type": "markdown",
   "metadata": {},
   "source": [
    "## Other helpful things to learn about:\n",
    "- Double under methods\n",
    "- Generators\n",
    "- Context managers\n",
    "- Decorators\n",
    "- List & Dictionary comprehension\n",
    "- Asynchronous programming in Python\n",
    "- Dataclasses, named tuples, and enums\n",
    "- defaultdict\n",
    "- Function caching with functools (lru_cache)"
   ]
  },
  {
   "cell_type": "markdown",
   "metadata": {},
   "source": []
  }
 ],
 "metadata": {
  "interpreter": {
   "hash": "f849a229428f7c4509ee09ed15bf39f2674dfd754e3734ae0f9f1d28f815a23a"
  },
  "kernelspec": {
   "display_name": "Python 3.10.2 ('.venv': poetry)",
   "language": "python",
   "name": "python3"
  },
  "language_info": {
   "codemirror_mode": {
    "name": "ipython",
    "version": 3
   },
   "file_extension": ".py",
   "mimetype": "text/x-python",
   "name": "python",
   "nbconvert_exporter": "python",
   "pygments_lexer": "ipython3",
   "version": "3.10.2"
  },
  "orig_nbformat": 4
 },
 "nbformat": 4,
 "nbformat_minor": 2
}
