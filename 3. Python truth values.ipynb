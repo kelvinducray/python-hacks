{
 "cells": [
  {
   "cell_type": "markdown",
   "metadata": {},
   "source": [
    "# Booleans"
   ]
  },
  {
   "cell_type": "code",
   "execution_count": 2,
   "metadata": {},
   "outputs": [
    {
     "name": "stdout",
     "output_type": "stream",
     "text": [
      "1. x is True.\n",
      "2. y is False.\n",
      "3. x is True.\n",
      "4. y is False.\n"
     ]
    }
   ],
   "source": [
    "x = True\n",
    "y = False\n",
    "\n",
    "# This works:\n",
    "if x == True:\n",
    "    print(\"1. x is True.\")\n",
    "\n",
    "if y == False:\n",
    "    print(\"2. y is False.\")\n",
    "\n",
    "# This is better:\n",
    "if x:\n",
    "    print(\"3. x is True.\")\n",
    "\n",
    "if not y:\n",
    "    print(\"4. y is False.\")"
   ]
  },
  {
   "cell_type": "markdown",
   "metadata": {},
   "source": [
    "# None values"
   ]
  },
  {
   "cell_type": "code",
   "execution_count": null,
   "metadata": {},
   "outputs": [],
   "source": []
  },
  {
   "cell_type": "markdown",
   "metadata": {},
   "source": [
    "# Strings\n",
    "\n",
    "Using truth values with strings can be very helpful, particularly in cases where you could be parsing data. Perhaps there is an optional string field, which could be None or you could have empty strings coming through as the default value.\n",
    "\n",
    "In this case using ```if <var_name>: ...``` could help filter these values out before you apply any other logic (which could result in errors, for example if you are trying to slice a string that is empty)."
   ]
  },
  {
   "cell_type": "code",
   "execution_count": 8,
   "metadata": {},
   "outputs": [
    {
     "name": "stdout",
     "output_type": "stream",
     "text": [
      "False\n"
     ]
    }
   ],
   "source": [
    "# Default value for empty strings:\n",
    "empty_str = \"\"\n",
    "\n",
    "print(bool(empty_str))"
   ]
  },
  {
   "cell_type": "code",
   "execution_count": 9,
   "metadata": {},
   "outputs": [
    {
     "name": "stdout",
     "output_type": "stream",
     "text": [
      "2. This should print out.\n",
      "3. This should print out.\n"
     ]
    }
   ],
   "source": [
    "# Using bool values to check if strings are empty or not:\n",
    "non_empty_str = \"abc123\"\n",
    "\n",
    "if empty_str:\n",
    "    print(\"1. This shouldn't print out.\")\n",
    "\n",
    "if not empty_str:\n",
    "    print(\"2. This should print out.\")\n",
    "\n",
    "if non_empty_str:\n",
    "    print(\"3. This should print out.\")"
   ]
  },
  {
   "cell_type": "markdown",
   "metadata": {},
   "source": [
    "# Integers\n",
    "\n",
    "With integers, zero is the default/False value."
   ]
  },
  {
   "cell_type": "code",
   "execution_count": 10,
   "metadata": {},
   "outputs": [
    {
     "data": {
      "text/plain": [
       "False"
      ]
     },
     "execution_count": 10,
     "metadata": {},
     "output_type": "execute_result"
    }
   ],
   "source": [
    "zero_int = 0\n",
    "\n",
    "bool(zero_int)"
   ]
  },
  {
   "cell_type": "code",
   "execution_count": 11,
   "metadata": {},
   "outputs": [
    {
     "name": "stdout",
     "output_type": "stream",
     "text": [
      "1. Positive integers return True.\n",
      "2. Negative integers also return True.\n"
     ]
    }
   ],
   "source": [
    "positive_int = 16\n",
    "negative_int = -5\n",
    "\n",
    "if positive_int:\n",
    "    print(\"1. Positive integers return True.\")\n",
    "\n",
    "if negative_int:\n",
    "    print(\"2. Negative integers also return True.\")"
   ]
  },
  {
   "cell_type": "markdown",
   "metadata": {},
   "source": [
    "# Lists"
   ]
  },
  {
   "cell_type": "code",
   "execution_count": 7,
   "metadata": {},
   "outputs": [
    {
     "name": "stdout",
     "output_type": "stream",
     "text": [
      "2. The list is empty.\n",
      "3. Yep this one has elements in it.\n"
     ]
    }
   ],
   "source": [
    "# Default False value for lists is the empty list\n",
    "\n",
    "empty_list = []\n",
    "another_list = [1, 2, 3]\n",
    "\n",
    "if empty_list:\n",
    "    print(\"1. This should not print out!\")\n",
    "\n",
    "if not empty_list:\n",
    "    print(\"2. The list is empty.\")\n",
    "\n",
    "if another_list:\n",
    "    print(\"3. Yep this one has elements in it.\")"
   ]
  },
  {
   "cell_type": "markdown",
   "metadata": {},
   "source": [
    "Note: The same also applies for tuples, sets, and dictionaries."
   ]
  },
  {
   "cell_type": "markdown",
   "metadata": {},
   "source": [
    " "
   ]
  }
 ],
 "metadata": {
  "interpreter": {
   "hash": "f849a229428f7c4509ee09ed15bf39f2674dfd754e3734ae0f9f1d28f815a23a"
  },
  "kernelspec": {
   "display_name": "Python 3.10.2 ('.venv': poetry)",
   "language": "python",
   "name": "python3"
  },
  "language_info": {
   "codemirror_mode": {
    "name": "ipython",
    "version": 3
   },
   "file_extension": ".py",
   "mimetype": "text/x-python",
   "name": "python",
   "nbconvert_exporter": "python",
   "pygments_lexer": "ipython3",
   "version": "3.10.2"
  },
  "orig_nbformat": 4
 },
 "nbformat": 4,
 "nbformat_minor": 2
}
